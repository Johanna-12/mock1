{
 "cells": [
  {
   "cell_type": "code",
   "execution_count": null,
   "id": "ecffffb0-4a40-41d1-91e2-476ddc9dc37a",
   "metadata": {},
   "outputs": [],
   "source": [
    "for i in range(0,10):\n",
    "print(i)"
   ]
  }
 ],
 "metadata": {
  "kernelspec": {
   "display_name": "",
   "name": ""
  },
  "language_info": {
   "name": ""
  }
 },
 "nbformat": 4,
 "nbformat_minor": 5
}
